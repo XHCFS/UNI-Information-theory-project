{
 "cells": [
  {
   "cell_type": "markdown",
   "metadata": {},
   "source": [
    "# Information Theory Project Part 1\n",
    "Saifelden Mohamed Ismail - 202100432\n",
    "\n"
   ]
  },
  {
   "cell_type": "markdown",
   "metadata": {},
   "source": [
    "### requirement 1 \n",
    "#### Calculating probabilities"
   ]
  },
  {
   "cell_type": "code",
   "execution_count": 289,
   "metadata": {},
   "outputs": [
    {
     "data": {
      "text/plain": [
       "{'a': 0.07193732193732202,\n",
       " 'b': 0.012108262108262113,\n",
       " 'c': 0.026353276353276337,\n",
       " 'd': 0.0455840455840456,\n",
       " 'e': 0.10398860398860417,\n",
       " 'f': 0.013532763532763538,\n",
       " 'g': 0.01424501424501425,\n",
       " 'h': 0.022079772079772072,\n",
       " 'i': 0.0605413105413106,\n",
       " 'j': 0.0007122507122507123,\n",
       " 'k': 0.0007122507122507123,\n",
       " 'l': 0.04202279202279203,\n",
       " 'm': 0.02136752136752136,\n",
       " 'n': 0.06410256410256417,\n",
       " 'o': 0.06267806267806274,\n",
       " 'p': 0.03703703703703703,\n",
       " 'q': 0.0007122507122507123,\n",
       " 'r': 0.05982905982905989,\n",
       " 's': 0.056267806267806315,\n",
       " 't': 0.07193732193732202,\n",
       " 'u': 0.018518518518518517,\n",
       " 'v': 0.009259259259259262,\n",
       " 'w': 0.007834757834757837,\n",
       " 'x': 0.0049857549857549865,\n",
       " 'y': 0.006410256410256412,\n",
       " 'z': 0.002136752136752137,\n",
       " '(': 0.002136752136752137,\n",
       " ')': 0.002136752136752137,\n",
       " '.': 0.004273504273504274,\n",
       " ',': 0.007834757834757837,\n",
       " '/': 0.0007122507122507123,\n",
       " '-': 0.0113960113960114,\n",
       " ' ': 0.1346153846153847}"
      ]
     },
     "execution_count": 289,
     "metadata": {},
     "output_type": "execute_result"
    }
   ],
   "source": [
    "import string\n",
    "import numpy as np\n",
    "file_object = open(\"Test_text_file.txt\")\n",
    "file_raw=file_object.read();\n",
    "symbols=string.ascii_lowercase+\"().,/- \"\n",
    "symbols_probabilities=dict(zip(list(symbols),[0]*len(symbols)))\n",
    "file_length=len(file_raw)\n",
    "\n",
    "for i in range(file_length):\n",
    "    symbols_probabilities[file_raw[i]]+=1*(1/file_length)\n",
    "\n",
    "symbols_probabilities\n",
    "\n",
    "\n"
   ]
  },
  {
   "cell_type": "markdown",
   "metadata": {},
   "source": [
    "### Requirement 2\n",
    "#### Calculating Entropy"
   ]
  },
  {
   "cell_type": "code",
   "execution_count": 290,
   "metadata": {},
   "outputs": [
    {
     "name": "stdout",
     "output_type": "stream",
     "text": [
      "4.257010564738072 bits/symbol\n"
     ]
    }
   ],
   "source": [
    "from math import log2\n",
    "Entropy = sum([ i*-log2(i) if i!=0 else 0 for i in symbols_probabilities.values()])\n",
    "print(Entropy, \"bits/symbol\")"
   ]
  },
  {
   "cell_type": "markdown",
   "metadata": {},
   "source": [
    "### Requirement 3\n",
    "#### Fixed Length Code Calculation"
   ]
  },
  {
   "cell_type": "code",
   "execution_count": 291,
   "metadata": {},
   "outputs": [
    {
     "name": "stdout",
     "output_type": "stream",
     "text": [
      "6.0000000000000036 bits/symbol\n"
     ]
    }
   ],
   "source": [
    "fixed_length_bits_per_symbol=round(log2(len(symbols)))\n",
    "fixed_length_efficiency= 6*sum([*symbols_probabilities.values()])\n",
    "print(fixed_length_efficiency, \"bits/symbol\")"
   ]
  },
  {
   "cell_type": "markdown",
   "metadata": {},
   "source": [
    "### Requirement 4\n",
    "#### Huffman Encoding function"
   ]
  },
  {
   "cell_type": "code",
   "execution_count": 292,
   "metadata": {},
   "outputs": [],
   "source": [
    "import bisect\n",
    "\n",
    "\n",
    "class Node:\n",
    "    def __init__(self,left=None,right=None):\n",
    "        self.left=left\n",
    "        self.right=right\n",
    "        if self.left!=None and self.right !=None :  \n",
    "            self.value=self.calculate_value()\n",
    "    def calculate_value(self):\n",
    "        left_value=self.left.value if isinstance(self.left, Node) else self.left[1]\n",
    "        right_value=self.right.value if isinstance(self.right, Node) else self.right[1]\n",
    "        return left_value +right_value\n",
    "\n",
    "class encoder:\n",
    "    def calculate_probabilities(self):\n",
    "        file_object = open(self.file_name)\n",
    "        file_raw=file_object.read();\n",
    "        self.file_raw=file_raw\n",
    "        self.symbols=list(set(file_raw))\n",
    "        number_of_symbols=len(self.symbols)\n",
    "        symbols_probabilities=[0]*number_of_symbols\n",
    "        file_length=len(file_raw)\n",
    "        for i in range(file_length):\n",
    "            symbols_probabilities[self.symbols.index(file_raw[i])]+=(1/file_length)\n",
    "\n",
    "        symbols_probabilities_set= list(zip(self.symbols,symbols_probabilities)) \n",
    "        self.symbols_probabilities=sorted(symbols_probabilities_set, key= lambda x: x[1] ,reverse=True)\n",
    "    def generate_encoded_message(self):\n",
    "        self.encoded_message=\"\"\n",
    "        for i in self.file_raw:\n",
    "            self.encoded_message+=self.encoding[i]\n",
    "\n",
    "    def generate_encoding(self,node=None,path=\"\", leaves={}):\n",
    "        if node is None:\n",
    "            node= self.encoding_tree\n",
    "        if not isinstance(node,Node):\n",
    "            leaves[node[0]]=path\n",
    "            return leaves\n",
    "        self.generate_encoding(node.left,path+\"0\",leaves)\n",
    "        self.generate_encoding(node.right,path+\"1\",leaves)\n",
    "        return leaves\n",
    "\n",
    "\n",
    "\n",
    "class huffman_encoder(encoder):\n",
    "    def __init__(self,file_name,file_name_output):\n",
    "        self.file_name=file_name\n",
    "        super().calculate_probabilities()\n",
    "        self.generate_huffman_tree()\n",
    "        self.encoding=super().generate_encoding()\n",
    "        super().generate_encoded_message()\n",
    "\n",
    "        file_output=open(file_name_output,\"w\")\n",
    "        file_output.write(self.encoded_message)\n",
    "        file_output.close()\n",
    "    def generate_huffman_tree(self):\n",
    "        tree_list=self.symbols_probabilities\n",
    "        tree_list= sorted(tree_list, key=lambda x: x.value if isinstance(x, Node) else x[1])\n",
    "        while(len(tree_list)>1):\n",
    "            new_value=Node(tree_list.pop(0),tree_list.pop(0))\n",
    "            bisect.insort(tree_list,new_value, key=lambda x:x.value if isinstance(x,Node) else x[1] )\n",
    "        self.encoding_tree=tree_list[0]\n",
    "  \n",
    "\n",
    "\n",
    " "
   ]
  },
  {
   "cell_type": "code",
   "execution_count": 293,
   "metadata": {},
   "outputs": [
    {
     "data": {
      "text/html": [
       "<div>\n",
       "<style scoped>\n",
       "    .dataframe tbody tr th:only-of-type {\n",
       "        vertical-align: middle;\n",
       "    }\n",
       "\n",
       "    .dataframe tbody tr th {\n",
       "        vertical-align: top;\n",
       "    }\n",
       "\n",
       "    .dataframe thead th {\n",
       "        text-align: right;\n",
       "    }\n",
       "</style>\n",
       "<table border=\"1\" class=\"dataframe\">\n",
       "  <thead>\n",
       "    <tr style=\"text-align: right;\">\n",
       "      <th></th>\n",
       "      <th>Symbols</th>\n",
       "      <th>Encoding</th>\n",
       "    </tr>\n",
       "  </thead>\n",
       "  <tbody>\n",
       "    <tr>\n",
       "      <th>0</th>\n",
       "      <td>0000</td>\n",
       "      <td>d</td>\n",
       "    </tr>\n",
       "    <tr>\n",
       "      <th>1</th>\n",
       "      <td>000100</td>\n",
       "      <td>-</td>\n",
       "    </tr>\n",
       "    <tr>\n",
       "      <th>2</th>\n",
       "      <td>000101</td>\n",
       "      <td>b</td>\n",
       "    </tr>\n",
       "    <tr>\n",
       "      <th>3</th>\n",
       "      <td>00011</td>\n",
       "      <td>c</td>\n",
       "    </tr>\n",
       "    <tr>\n",
       "      <th>4</th>\n",
       "      <td>001</td>\n",
       "      <td>e</td>\n",
       "    </tr>\n",
       "    <tr>\n",
       "      <th>5</th>\n",
       "      <td>0100</td>\n",
       "      <td>s</td>\n",
       "    </tr>\n",
       "    <tr>\n",
       "      <th>6</th>\n",
       "      <td>010100</td>\n",
       "      <td>f</td>\n",
       "    </tr>\n",
       "    <tr>\n",
       "      <th>7</th>\n",
       "      <td>0101010</td>\n",
       "      <td>y</td>\n",
       "    </tr>\n",
       "    <tr>\n",
       "      <th>8</th>\n",
       "      <td>0101011</td>\n",
       "      <td>w</td>\n",
       "    </tr>\n",
       "    <tr>\n",
       "      <th>9</th>\n",
       "      <td>010110</td>\n",
       "      <td>g</td>\n",
       "    </tr>\n",
       "    <tr>\n",
       "      <th>10</th>\n",
       "      <td>0101110</td>\n",
       "      <td>,</td>\n",
       "    </tr>\n",
       "    <tr>\n",
       "      <th>11</th>\n",
       "      <td>01011110</td>\n",
       "      <td>.</td>\n",
       "    </tr>\n",
       "    <tr>\n",
       "      <th>12</th>\n",
       "      <td>010111110</td>\n",
       "      <td>)</td>\n",
       "    </tr>\n",
       "    <tr>\n",
       "      <th>13</th>\n",
       "      <td>010111111</td>\n",
       "      <td>(</td>\n",
       "    </tr>\n",
       "    <tr>\n",
       "      <th>14</th>\n",
       "      <td>0110</td>\n",
       "      <td>r</td>\n",
       "    </tr>\n",
       "    <tr>\n",
       "      <th>15</th>\n",
       "      <td>0111</td>\n",
       "      <td>i</td>\n",
       "    </tr>\n",
       "    <tr>\n",
       "      <th>16</th>\n",
       "      <td>1000</td>\n",
       "      <td>o</td>\n",
       "    </tr>\n",
       "    <tr>\n",
       "      <th>17</th>\n",
       "      <td>1001</td>\n",
       "      <td>n</td>\n",
       "    </tr>\n",
       "    <tr>\n",
       "      <th>18</th>\n",
       "      <td>101</td>\n",
       "      <td></td>\n",
       "    </tr>\n",
       "    <tr>\n",
       "      <th>19</th>\n",
       "      <td>1100</td>\n",
       "      <td>a</td>\n",
       "    </tr>\n",
       "    <tr>\n",
       "      <th>20</th>\n",
       "      <td>1101</td>\n",
       "      <td>t</td>\n",
       "    </tr>\n",
       "    <tr>\n",
       "      <th>21</th>\n",
       "      <td>11100</td>\n",
       "      <td>p</td>\n",
       "    </tr>\n",
       "    <tr>\n",
       "      <th>22</th>\n",
       "      <td>111010</td>\n",
       "      <td>u</td>\n",
       "    </tr>\n",
       "    <tr>\n",
       "      <th>23</th>\n",
       "      <td>1110110</td>\n",
       "      <td>v</td>\n",
       "    </tr>\n",
       "    <tr>\n",
       "      <th>24</th>\n",
       "      <td>11101110</td>\n",
       "      <td>x</td>\n",
       "    </tr>\n",
       "    <tr>\n",
       "      <th>25</th>\n",
       "      <td>111011110</td>\n",
       "      <td>z</td>\n",
       "    </tr>\n",
       "    <tr>\n",
       "      <th>26</th>\n",
       "      <td>11101111100</td>\n",
       "      <td>/</td>\n",
       "    </tr>\n",
       "    <tr>\n",
       "      <th>27</th>\n",
       "      <td>11101111101</td>\n",
       "      <td>k</td>\n",
       "    </tr>\n",
       "    <tr>\n",
       "      <th>28</th>\n",
       "      <td>11101111110</td>\n",
       "      <td>q</td>\n",
       "    </tr>\n",
       "    <tr>\n",
       "      <th>29</th>\n",
       "      <td>11101111111</td>\n",
       "      <td>j</td>\n",
       "    </tr>\n",
       "    <tr>\n",
       "      <th>30</th>\n",
       "      <td>11110</td>\n",
       "      <td>l</td>\n",
       "    </tr>\n",
       "    <tr>\n",
       "      <th>31</th>\n",
       "      <td>111110</td>\n",
       "      <td>m</td>\n",
       "    </tr>\n",
       "    <tr>\n",
       "      <th>32</th>\n",
       "      <td>111111</td>\n",
       "      <td>h</td>\n",
       "    </tr>\n",
       "  </tbody>\n",
       "</table>\n",
       "</div>"
      ],
      "text/plain": [
       "        Symbols Encoding\n",
       "0          0000        d\n",
       "1        000100        -\n",
       "2        000101        b\n",
       "3         00011        c\n",
       "4           001        e\n",
       "5          0100        s\n",
       "6        010100        f\n",
       "7       0101010        y\n",
       "8       0101011        w\n",
       "9        010110        g\n",
       "10      0101110        ,\n",
       "11     01011110        .\n",
       "12    010111110        )\n",
       "13    010111111        (\n",
       "14         0110        r\n",
       "15         0111        i\n",
       "16         1000        o\n",
       "17         1001        n\n",
       "18          101         \n",
       "19         1100        a\n",
       "20         1101        t\n",
       "21        11100        p\n",
       "22       111010        u\n",
       "23      1110110        v\n",
       "24     11101110        x\n",
       "25    111011110        z\n",
       "26  11101111100        /\n",
       "27  11101111101        k\n",
       "28  11101111110        q\n",
       "29  11101111111        j\n",
       "30        11110        l\n",
       "31       111110        m\n",
       "32       111111        h"
      ]
     },
     "execution_count": 293,
     "metadata": {},
     "output_type": "execute_result"
    }
   ],
   "source": [
    "from pandas import DataFrame as df\n",
    "encoded_file=huffman_encoder(\"Test_text_file.txt\",\"Test_text_file.zip\") \n",
    "table1=df({\"Symbols\":encoded_file.encoding.values(),\"Encoding\":encoded_file.encoding.keys()})\n",
    "huffman_code=encoded_file.encoding.values()\n",
    "table1"
   ]
  },
  {
   "cell_type": "markdown",
   "metadata": {},
   "source": [
    "### REQUIREMENT 5\n",
    "#### Huffman Decoding Function"
   ]
  },
  {
   "cell_type": "code",
   "execution_count": 294,
   "metadata": {},
   "outputs": [],
   "source": [
    "class decoder:\n",
    "    def __init__(self,encoding_tree,file_input_name,file_output_name):\n",
    "        self.encoding_tree=encoding_tree\n",
    "        self.decode(file_input_name)\n",
    "        self.file=open(file_output_name,\"w\")\n",
    "        self.file.write(self.decoded_output)\n",
    "        self.file.close()\n",
    "    def decode(self,file_input_name):\n",
    "        file_object = open(file_input_name)\n",
    "        file_input_raw=file_object.read();\n",
    "        self.file_input_raw=file_input_raw    \n",
    "        \n",
    "        navigation_node=self.encoding_tree\n",
    "        self.decoded_output=\"\" \n",
    "        for i in file_input_raw:\n",
    "            if not isinstance(navigation_node,Node):\n",
    "                self.decoded_output+=navigation_node[0]\n",
    "                navigation_node=self.encoding_tree\n",
    "\n",
    "            if i=='0':\n",
    "                navigation_node=navigation_node.left\n",
    "            elif i=='1':\n",
    "                navigation_node=navigation_node.right\n",
    "                \n",
    "\n",
    "\n"
   ]
  },
  {
   "cell_type": "code",
   "execution_count": 295,
   "metadata": {},
   "outputs": [
    {
     "data": {
      "text/plain": [
       "'in this paper, a novel decorrelation-based concurrent digital predistortion (dpd) solution is proposed for dual-band transmitters (tx) employing a single wideband power amplifier (pa), and utilizing just a single feedback receiver path. the proposed decorrelation-based parameter learning solution is both flexible and simple, and operates in a closed-loop manner, opposed to the widely applied indirect learning architecture. the proposed decorrelation-based learning and dpd processing can also be effectively applied to more ordinary single-band transmissions, as well as generalized to more than two transmit bands. through a comprehensive analysis covering both the dpd parameter learning and the main path processing, it is shown that the complexity of the proposed concurrent dpd is substantially lower compared with the other state-of-the-art concurrent dpd methods. extensive set of quantitative simulation and rf measurement results are also presented, using a base-station pa as well as a commercial lte-advanced mobile pa, to evaluate and validate the effectiveness of the proposed dpd solution in various real world scenarios, incorporating single-band/dual-band tx cases. the simulation and rf measurement results demonstrate excellent linearization performance of the proposed concurrent dpd, even outperforming current state-of-the-art methods, despite the significantly lower complexity'"
      ]
     },
     "execution_count": 295,
     "metadata": {},
     "output_type": "execute_result"
    }
   ],
   "source": [
    "\n",
    "decoded_file=decoder(encoded_file.encoding_tree,\"Test_text_file.zip\",\"Test_text_file_unzipped.txt\")\n",
    "decoded_file.decoded_output\n"
   ]
  },
  {
   "cell_type": "markdown",
   "metadata": {},
   "source": [
    "### REQUIREMENT 6\n",
    "#### Calculating efficiency of Huffman Code"
   ]
  },
  {
   "cell_type": "code",
   "execution_count": 296,
   "metadata": {},
   "outputs": [
    {
     "name": "stdout",
     "output_type": "stream",
     "text": [
      "the encoding's effieciency is 0.9954768209347515\n"
     ]
    }
   ],
   "source": [
    "encoded_file.encoding\n",
    "encoded_file.symbols_probabilities\n",
    "\n",
    "average_length= sum([i[1]*len(encoded_file.encoding[i[0]]) for i in encoded_file.symbols_probabilities])\n",
    "print(f\"the encoding's effieciency is {Entropy/average_length}\")"
   ]
  },
  {
   "cell_type": "markdown",
   "metadata": {},
   "source": [
    "### REQUIREMENT 7\n",
    "#### Creating a Shannon encoder"
   ]
  },
  {
   "cell_type": "code",
   "execution_count": 297,
   "metadata": {},
   "outputs": [],
   "source": [
    "class shannon_encoder(encoder):\n",
    "    def __init__(self,file_name,file_name_output):\n",
    "        self.file_name=file_name\n",
    "        super().calculate_probabilities()\n",
    "        self.generate_shannon_tree() \n",
    "        self.encoding=super().generate_encoding()\n",
    "        super().generate_encoded_message()\n",
    "\n",
    "        with open(file_name_output, \"w\") as file_output:\n",
    "            file_output.write(self.encoded_message)\n",
    " \n",
    "    def generate_shannon_tree(self,symbols_probabilities=None, navigation_node=None):\n",
    "\n",
    "        if symbols_probabilities==None:\n",
    "            symbols_probabilities=self.symbols_probabilities\n",
    "        if navigation_node==None:\n",
    "            self.encoding_tree=Node()\n",
    "            navigation_node=self.encoding_tree\n",
    "\n",
    "\n",
    "\n",
    "        total_probability = sum(value for _, value in symbols_probabilities)\n",
    "        accumulated_probabilities = 0\n",
    "        midpoint = 0\n",
    "\n",
    "        for i, (_, probability) in enumerate(symbols_probabilities):\n",
    "            accumulated_probabilities += probability\n",
    "            if accumulated_probabilities >= total_probability / 2:\n",
    "                midpoint = i\n",
    "                break\n",
    "\n",
    "        left_split=symbols_probabilities[:midpoint]\n",
    "        right_split=symbols_probabilities[midpoint:]\n",
    "        if len(symbols_probabilities)==2:\n",
    "            navigation_node.left=symbols_probabilities[0]\n",
    "            navigation_node.right=symbols_probabilities[1]\n",
    "            return\n",
    "        if len(left_split)==1:\n",
    "            navigation_node.left=symbols_probabilities[0]\n",
    "            navigation_node.right=Node()\n",
    "            self.generate_shannon_tree(right_split,navigation_node.right)\n",
    "            return\n",
    "\n",
    "        navigation_node.left=Node()\n",
    "        navigation_node.right=Node()\n",
    "        self.generate_shannon_tree(left_split,navigation_node.left)\n",
    "        self.generate_shannon_tree(right_split,navigation_node.right)\n",
    "            \n",
    "        "
   ]
  },
  {
   "cell_type": "code",
   "execution_count": 298,
   "metadata": {},
   "outputs": [
    {
     "data": {
      "text/html": [
       "<div>\n",
       "<style scoped>\n",
       "    .dataframe tbody tr th:only-of-type {\n",
       "        vertical-align: middle;\n",
       "    }\n",
       "\n",
       "    .dataframe tbody tr th {\n",
       "        vertical-align: top;\n",
       "    }\n",
       "\n",
       "    .dataframe thead th {\n",
       "        text-align: right;\n",
       "    }\n",
       "</style>\n",
       "<table border=\"1\" class=\"dataframe\">\n",
       "  <thead>\n",
       "    <tr style=\"text-align: right;\">\n",
       "      <th></th>\n",
       "      <th>Symbols</th>\n",
       "      <th>Encoding</th>\n",
       "    </tr>\n",
       "  </thead>\n",
       "  <tbody>\n",
       "    <tr>\n",
       "      <th>0</th>\n",
       "      <td>1100</td>\n",
       "      <td>d</td>\n",
       "    </tr>\n",
       "    <tr>\n",
       "      <th>1</th>\n",
       "      <td>1111011</td>\n",
       "      <td>-</td>\n",
       "    </tr>\n",
       "    <tr>\n",
       "      <th>2</th>\n",
       "      <td>1111010</td>\n",
       "      <td>b</td>\n",
       "    </tr>\n",
       "    <tr>\n",
       "      <th>3</th>\n",
       "      <td>110111</td>\n",
       "      <td>c</td>\n",
       "    </tr>\n",
       "    <tr>\n",
       "      <th>4</th>\n",
       "      <td>010</td>\n",
       "      <td>e</td>\n",
       "    </tr>\n",
       "    <tr>\n",
       "      <th>5</th>\n",
       "      <td>10111</td>\n",
       "      <td>s</td>\n",
       "    </tr>\n",
       "    <tr>\n",
       "      <th>6</th>\n",
       "      <td>111100</td>\n",
       "      <td>f</td>\n",
       "    </tr>\n",
       "    <tr>\n",
       "      <th>7</th>\n",
       "      <td>11111101</td>\n",
       "      <td>y</td>\n",
       "    </tr>\n",
       "    <tr>\n",
       "      <th>8</th>\n",
       "      <td>1111101</td>\n",
       "      <td>w</td>\n",
       "    </tr>\n",
       "    <tr>\n",
       "      <th>9</th>\n",
       "      <td>1110111</td>\n",
       "      <td>g</td>\n",
       "    </tr>\n",
       "    <tr>\n",
       "      <th>10</th>\n",
       "      <td>11111100</td>\n",
       "      <td>,</td>\n",
       "    </tr>\n",
       "    <tr>\n",
       "      <th>11</th>\n",
       "      <td>1111111100</td>\n",
       "      <td>.</td>\n",
       "    </tr>\n",
       "    <tr>\n",
       "      <th>12</th>\n",
       "      <td>1111111101</td>\n",
       "      <td>)</td>\n",
       "    </tr>\n",
       "    <tr>\n",
       "      <th>13</th>\n",
       "      <td>1111111110</td>\n",
       "      <td>(</td>\n",
       "    </tr>\n",
       "    <tr>\n",
       "      <th>14</th>\n",
       "      <td>10110</td>\n",
       "      <td>r</td>\n",
       "    </tr>\n",
       "    <tr>\n",
       "      <th>15</th>\n",
       "      <td>1010</td>\n",
       "      <td>i</td>\n",
       "    </tr>\n",
       "    <tr>\n",
       "      <th>16</th>\n",
       "      <td>100</td>\n",
       "      <td>o</td>\n",
       "    </tr>\n",
       "    <tr>\n",
       "      <th>17</th>\n",
       "      <td>01111</td>\n",
       "      <td>n</td>\n",
       "    </tr>\n",
       "    <tr>\n",
       "      <th>18</th>\n",
       "      <td>00</td>\n",
       "      <td></td>\n",
       "    </tr>\n",
       "    <tr>\n",
       "      <th>19</th>\n",
       "      <td>0110</td>\n",
       "      <td>a</td>\n",
       "    </tr>\n",
       "    <tr>\n",
       "      <th>20</th>\n",
       "      <td>01110</td>\n",
       "      <td>t</td>\n",
       "    </tr>\n",
       "    <tr>\n",
       "      <th>21</th>\n",
       "      <td>110110</td>\n",
       "      <td>p</td>\n",
       "    </tr>\n",
       "    <tr>\n",
       "      <th>22</th>\n",
       "      <td>1110110</td>\n",
       "      <td>u</td>\n",
       "    </tr>\n",
       "    <tr>\n",
       "      <th>23</th>\n",
       "      <td>1111100</td>\n",
       "      <td>v</td>\n",
       "    </tr>\n",
       "    <tr>\n",
       "      <th>24</th>\n",
       "      <td>11111110</td>\n",
       "      <td>x</td>\n",
       "    </tr>\n",
       "    <tr>\n",
       "      <th>25</th>\n",
       "      <td>11111111110</td>\n",
       "      <td>z</td>\n",
       "    </tr>\n",
       "    <tr>\n",
       "      <th>26</th>\n",
       "      <td>111111111110</td>\n",
       "      <td>/</td>\n",
       "    </tr>\n",
       "    <tr>\n",
       "      <th>27</th>\n",
       "      <td>1111111111110</td>\n",
       "      <td>k</td>\n",
       "    </tr>\n",
       "    <tr>\n",
       "      <th>28</th>\n",
       "      <td>11111111111110</td>\n",
       "      <td>q</td>\n",
       "    </tr>\n",
       "    <tr>\n",
       "      <th>29</th>\n",
       "      <td>11111111111111</td>\n",
       "      <td>j</td>\n",
       "    </tr>\n",
       "    <tr>\n",
       "      <th>30</th>\n",
       "      <td>11010</td>\n",
       "      <td>l</td>\n",
       "    </tr>\n",
       "    <tr>\n",
       "      <th>31</th>\n",
       "      <td>111010</td>\n",
       "      <td>m</td>\n",
       "    </tr>\n",
       "    <tr>\n",
       "      <th>32</th>\n",
       "      <td>11100</td>\n",
       "      <td>h</td>\n",
       "    </tr>\n",
       "  </tbody>\n",
       "</table>\n",
       "</div>"
      ],
      "text/plain": [
       "           Symbols Encoding\n",
       "0             1100        d\n",
       "1          1111011        -\n",
       "2          1111010        b\n",
       "3           110111        c\n",
       "4              010        e\n",
       "5            10111        s\n",
       "6           111100        f\n",
       "7         11111101        y\n",
       "8          1111101        w\n",
       "9          1110111        g\n",
       "10        11111100        ,\n",
       "11      1111111100        .\n",
       "12      1111111101        )\n",
       "13      1111111110        (\n",
       "14           10110        r\n",
       "15            1010        i\n",
       "16             100        o\n",
       "17           01111        n\n",
       "18              00         \n",
       "19            0110        a\n",
       "20           01110        t\n",
       "21          110110        p\n",
       "22         1110110        u\n",
       "23         1111100        v\n",
       "24        11111110        x\n",
       "25     11111111110        z\n",
       "26    111111111110        /\n",
       "27   1111111111110        k\n",
       "28  11111111111110        q\n",
       "29  11111111111111        j\n",
       "30           11010        l\n",
       "31          111010        m\n",
       "32           11100        h"
      ]
     },
     "execution_count": 298,
     "metadata": {},
     "output_type": "execute_result"
    }
   ],
   "source": [
    "\n",
    "from pandas import DataFrame as df\n",
    "encoded_shannon=shannon_encoder(\"Test_text_file.txt\",\"Test_text_file_Shannon.zip\")\n",
    "symbols_probabilities=encoded_shannon.symbols_probabilities\n",
    "\n",
    "table=df({\"Symbols\":encoded_shannon.encoding.values(),\"Encoding\":encoded_shannon.encoding.keys()})\n",
    "table"
   ]
  },
  {
   "cell_type": "markdown",
   "metadata": {},
   "source": [
    "### Requirement 8\n",
    "#### Using the Decoder (same for both shannon and huffman) and Comparing the efficiency\n",
    "The efficiency for both is identical, to verify if there is an error, I used the encoding tree from the previous huffman encoding for comparison to show that both encodings are in fact seperate"
   ]
  },
  {
   "cell_type": "code",
   "execution_count": 299,
   "metadata": {},
   "outputs": [
    {
     "name": "stdout",
     "output_type": "stream",
     "text": [
      "Decoded file using shannon encoding tree\n",
      "in this paper, a novel decorrelation-based concurrent digital predistortion (dpd) solution is proposed for dual-band transmitters (tx) employing a single wideband power amplifier (pa), and utilizing just a single feedback receiver path. the proposed decorrelation-based parameter learning solution is both flexible and simple, and operates in a closed-loop manner, opposed to the widely applied indirect learning architecture. the proposed decorrelation-based learning and dpd processing can also be effectively applied to more ordinary single-band transmissions, as well as generalized to more than two transmit bands. through a comprehensive analysis covering both the dpd parameter learning and the main path processing, it is shown that the complexity of the proposed concurrent dpd is substantially lower compared with the other state-of-the-art concurrent dpd methods. extensive set of quantitative simulation and rf measurement results are also presented, using a base-station pa as well as a commercial lte-advanced mobile pa, to evaluate and validate the effectiveness of the proposed dpd solution in various real world scenarios, incorporating single-band/dual-band tx cases. the simulation and rf measurement results demonstrate excellent linearization performance of the proposed concurrent dpd, even outperforming current state-of-the-art methods, despite the significantly lower complexity\n",
      "Decoded file using the previous huffman tree\n",
      " epiiewn n  nghdrcpmeroaglg nrnntfimhstigciohiv  rslprw uie  cr nryxnriyephvrtnh ein iriyep ,rtrn  eigcanrentn  i mnnmduaamhyiea r ahpjimo trt shrnhicbuilmncv o uripe  el gcigt wa egeht n h hdripetntg (l ehiehhltiida.nhitecas nurthhaggu iawcrriiehoetasrtrn  eigcb p  rgnntfimhstigcrr n teea re ee ritehiein iriyep ,i siidlrnil i rndahd uut  eipcem-tngrie,fleotl eigi une ouri u  m-t   eigdudxecv o  iue      f ofhewerxe ee ritehicgtmfp  ttt r(ac asrtrn  eigcb p  rgnntfimhstigcsn ritehicemce  ortrn t.lnhie tnprt.cted plerx iag mot     f oetdunrss  nsltrhs uilmni mnnmduaamhy z cjac,itg  dtietteu n  wha oetdunrsetariokoetrritm spi enm(mdxgnt tmdarligtr,eell ledalt ivl ie pmeg ehieuoxdxece  oratrrusp re ee ritehicemdxec e slraaxcr  e t.lnhihd eayp msm piiceaetasrligt eil etmnepc asrtrn  eigciohiv  rslprrtoyp mtu taalun  r mn sm ge putn rgcvntac assiibreiiena xinvxei   riciohiv  rslprrtoisntannihabheanll lebteaslchmvri tspau lebuuvtentfioahd  petee iv nisnxerwlt eticgse  .cr n,nxgipet i ehiccte i.xpau catnor am r  dticcintis rturtcsp vtnlenmuaetsl gncrrhdisble  irriedahdme  wceaoii-einpgx iasl i anpc asrtrn  eigce  o.r tntfinsliar  fv a ne  cvgtrblui  r s haeshinrt errifh a uilmni mnnmihtntn  i mnnmdjcir t(mdxebuuvtentfioahd  petee iv nisnxerwlt etieo tsitttrried hrutrnexe fln r ihnntfin ngls  tenmueepc asrtrn  eigciohiv  rslprrtnmd leepntnt ngls  tfh atmtr nexeiiena xinvxei   ric eetannihdawv eaoii-. ttl p rvi t iur el ge put  eil etmh\n"
     ]
    }
   ],
   "source": [
    "decoded_file=decoder(encoded_shannon.encoding_tree,\"Test_text_file_Shannon.zip\",\"Test_text_file_unzipped_Shannon.txt\")\n",
    "decoded_file_wrong=decoder(encoded_file.encoding_tree,\"Test_text_file_Shannon.zip\",\"Test_text_file_unzipped_Shannon.txt\")\n",
    "print(\"Decoded file using shannon encoding tree\")\n",
    "print(decoded_file.decoded_output)\n",
    "print(\"Decoded file using the previous huffman tree\")\n",
    "print(decoded_file_wrong.decoded_output)"
   ]
  },
  {
   "cell_type": "code",
   "execution_count": 300,
   "metadata": {},
   "outputs": [
    {
     "name": "stdout",
     "output_type": "stream",
     "text": [
      "the encoding's effieciency is 0.9530924625884625\n"
     ]
    }
   ],
   "source": [
    "average_length= sum([i[1]*len(encoded_shannon.encoding[i[0]]) for i in encoded_shannon.symbols_probabilities])\n",
    "print(f\"the encoding's effieciency is {Entropy/average_length}\")"
   ]
  },
  {
   "cell_type": "markdown",
   "metadata": {},
   "source": [
    "# INFORMATION THEORY PROJECT PART 2\n"
   ]
  },
  {
   "cell_type": "markdown",
   "metadata": {},
   "source": [
    "### Requirement 1, 2 (encoder,channel and decoder)"
   ]
  },
  {
   "cell_type": "code",
   "execution_count": 301,
   "metadata": {},
   "outputs": [],
   "source": [
    "def file_check(file_name):\n",
    "\n",
    "    file_check=file_name[0] not in [\"0\",\"1\",1,0]\n",
    "\n",
    "    if file_check:\n",
    "        file_object = open(file_name)\n",
    "        transmited_message=file_object.read();        \n",
    "        transmited_message=np.array(list(transmited_message),dtype=int)\n",
    "        file_object.close()\n",
    "        return transmited_message\n",
    "    else:\n",
    "        return file_name\n",
    " \n",
    "def file_write_array_bits(file_name,message):\n",
    "    if (file_name):\n",
    "        file_object = open(file_name,'w')\n",
    "        file_object.write(arr2str(message))\n",
    "        file_object.close()   \n",
    "\n",
    "class error_encoder_decoder:\n",
    "    def __init__(self,message,output_file=None):\n",
    "\n",
    "        self.G_matrix= np.array([\n",
    "            [1,1,0,1],\n",
    "            [1,0,1,1],\n",
    "            [1,0,0,0],\n",
    "            [0,1,1,1],\n",
    "            [0,1,0,0],\n",
    "            [0,0,1,0],\n",
    "            [0,0,0,1],\n",
    "        ])\n",
    "\n",
    "        self.H_matrix= np.array([\n",
    "            [1,0,1,0,1,0,1],\n",
    "            [0,1,1,0,0,1,1],\n",
    "            [0,0,0,1,1,1,1],\n",
    "        ])\n",
    "\n",
    "        self.R_matrix= np.array([\n",
    "            [0,0,1,0,0,0,0],\n",
    "            [0,0,0,0,1,0,0],\n",
    "            [0,0,0,0,0,1,0],\n",
    "            [0,0,0,0,0,0,1],\n",
    "        ])\n",
    "\n",
    "        self.lookup_table= {\n",
    "            (0, 0, 0): -1,\n",
    "            (0, 0, 1):  3 ,\n",
    "            (0, 1, 0):  1 ,\n",
    "            (0, 1, 1):  5 ,\n",
    "            (1, 0, 0):  0 ,\n",
    "            (1, 0, 1):  4 ,\n",
    "            (1, 1, 0):  2 ,\n",
    "            (1, 1, 1):  6 \n",
    "        }\n",
    "\n",
    "\n",
    "        message=file_check(message)\n",
    "\n",
    "        message_binary=np.array(list(message),dtype=int)\n",
    "        self.message_length=len(message_binary)\n",
    "        self.buffer_length=4-len(message_binary)%4 \n",
    "        \n",
    "        buffer=np.zeros(self.buffer_length)\n",
    "\n",
    "\n",
    "        message_binary=np.concatenate((message_binary,buffer))\n",
    "        self.add_parity(message_binary)\n",
    "\n",
    "        file_write_array_bits(output_file,self.encoded_message_array)\n",
    "        \n",
    "\n",
    "\n",
    "    \n",
    "    def add_parity(self,message_binary):\n",
    "\n",
    "        encoded_message_array=np.zeros(int(len(message_binary)*(7/4)))\n",
    "        for j,i in zip(range(7,len(encoded_message_array)+7,7),range(4,len(message_binary)+4,4)):\n",
    "            encoded_message_array[j-7:j]=np.dot(self.G_matrix,message_binary[i-4:i])%2\n",
    "\n",
    "        self.encoded_message_array=encoded_message_array\n",
    "    \n",
    "    def correct_errors(self,encoded_message_array,output_name=None):\n",
    "        \n",
    "        encoded_message_array=file_check(encoded_message_array)\n",
    "\n",
    "        total_message_length=self.message_length+self.buffer_length\n",
    "\n",
    "        decoded_message_array=np.zeros(total_message_length)\n",
    "\n",
    "        for j,i in zip(range(7,len(encoded_message_array)+7,7),range(4,total_message_length+4,4)):\n",
    "\n",
    "            word=encoded_message_array[j-7:j]\n",
    "            syndrome=np.dot(self.H_matrix,word)%2\n",
    "            error_bit=self.lookup_table[tuple(syndrome.astype(int))] \n",
    "            if(error_bit!=-1):\n",
    "                word[error_bit]^=1\n",
    "\n",
    "            decoded_message_array[i-4:i]=np.dot(self.R_matrix,word)%2\n",
    "            \n",
    "        self.decoded_message_array=decoded_message_array\n",
    "        self.decoded_message=''.join(map(str, self.decoded_message_array[:self.message_length].astype(int)))\n",
    "\n",
    "        file_write_array_bits(output_name,self.decoded_message_array)\n",
    "       \n",
    "\n",
    "\n",
    "def arr2str(arr):\n",
    "    return ''.join(map(str, arr.astype(int)))\n",
    "\n",
    "\n",
    "def channel(message, SNR_dB ):\n",
    "    \n",
    "    file_check=(message[0]) not in [0,1] \n",
    "    if file_check:\n",
    "        file_object = open(message)\n",
    "        transmited_message=file_object.read();        \n",
    "        transmited_message=np.array(list(transmited_message),dtype=int)\n",
    "        file_object.close()\n",
    "    else: \n",
    "        transmited_message=message\n",
    "\n",
    "\n",
    "    bit_flip_probability = 1 / (10 ** (SNR_dB / 10))\n",
    "    random_values = np.random.rand(len(transmited_message))\n",
    "    indices = np.where((random_values < bit_flip_probability) == True)[0]\n",
    "    noisy_message=np.bitwise_xor(transmited_message.astype(int) ,(random_values < bit_flip_probability))\n",
    "    \n",
    "\n",
    "    if file_check:\n",
    "        file_object = open(message,'w')\n",
    "        file_object.write(arr2str(noisy_message))\n",
    "        file_object.close()\n",
    "\n",
    "    return noisy_message\n"
   ]
  },
  {
   "cell_type": "markdown",
   "metadata": {},
   "source": [
    "### Requirement 4 (SNR and BER plot)\n",
    "\n",
    "testing one pass through channel"
   ]
  },
  {
   "cell_type": "code",
   "execution_count": 302,
   "metadata": {},
   "outputs": [],
   "source": [
    "def calculate_ber(string1, string2):\n",
    "    if len(string1) != len(string2):\n",
    "        raise ValueError(\"Strings must have the same length.\")\n",
    "    return np.sum(np.array(list(string1), dtype=int) != np.array(list(string2), dtype=int)) / len(string1)\n"
   ]
  },
  {
   "cell_type": "code",
   "execution_count": 303,
   "metadata": {},
   "outputs": [
    {
     "data": {
      "text/plain": [
       "array([1., 0., 1., ..., 0., 0., 0.], shape=(10976,))"
      ]
     },
     "execution_count": 303,
     "metadata": {},
     "output_type": "execute_result"
    }
   ],
   "source": [
    "error_encoded_message=error_encoder_decoder(encoded_shannon.encoded_message)\n",
    "error_encoded_message.encoded_message_array"
   ]
  },
  {
   "cell_type": "code",
   "execution_count": 304,
   "metadata": {},
   "outputs": [],
   "source": [
    "sent_message_parity=channel(error_encoded_message.encoded_message_array, 20)\n",
    "received_message_no_parity=channel( np.array(list(encoded_shannon.encoded_message),dtype=int),20)\n",
    "\n",
    "error_encoded_message.correct_errors(sent_message_parity)\n",
    "received_message_parity=error_encoded_message.decoded_message"
   ]
  },
  {
   "cell_type": "code",
   "execution_count": 305,
   "metadata": {},
   "outputs": [
    {
     "data": {
      "text/plain": [
       "'1010011110001110111001010101110011011001101101100101011011111100000110000111110011111001101101000110001011011110010110101100101101001100111010101000111111110111111010011010111010110000110111100011111101111110110101101011001001110011100011001010111011110100111101101101000110110101100101100101010111011101001011001110101010001111001111111110110011011011001111111101001011110011010111011001110101010001111001010101110011011010110100110110100101110101100001111001001011000110011101100110110101111011111101001100111011000001110101100110011111011111101010100111001110010101101011100111111111001110111111101111111101000101110101101101101010011111101001001111111011100011000101111010011111110111110100100011111011010110001111110100110011111100001101101001111101010100100001101110101101101101010101111001010010101100011111111101101100110111111110111111100000110011111100001110110011101010110101010111111111101010011111110111001111111111111111101101011001110001110011011110100111111101111101001000111100010010110011110100110110111101111111111000101110101101110101010111110001010111001101100110011101110011111111000001110111000100011011010110100110110100101110101100001100010110111100101101011001011010011001110101010001111111101111110100110101110101100001101100110101100110111010010011100101011000110100100110101100111110100111111101110010111000110101110110011101010100011110010101011100111111010001110111000011110011010010111111101010111101011010010000110011111100001011110101110101101100101001011111100100110011111100001001111100101011001100111001010111101010011110001100011011111010100101110101100111101111010100100110110001110100110011110111101010110111111000010011011011011010010111010110000011101000001110111000100011111011010110001011010111111010001101101101101101101010100101100001010011111100101010110010110111011100011110010011010110011111010011111110111000110101101101111110010100111001011011101110111011010110010111111110000011101110001000010110101101001101101001011101011000011000101101111001011010110010110100110011101010100011111111011111101001101011101011000011010010011010110011111010011111110111000110011111100001100110110110000110110101101000101110101011110111101001101111011100110111011001111000110110101011110000111101001000010111100111100010110111011101010111110001011010111111010001101101101101101101010100101100100111010000111011100101100100010010110110010100111101101011011111101001011110100111111101111101001011110111111010011001111110000011101011001100111110111111010101010111101111010100011111011111111100000110101110011111010101101011010000110101110011101110100111101010110011011110101011111111110010110000011101000011101010010110000000111011100011001111000111011111011000001110101100110011111011111101000100111000111101001100111111001011111111111000001110111001011010011101101110111111000001100011011110011101011011010110010111000100111110111101011111000100001100111101101101011111101101111010101110011011110011111000101011010100111111101110011110101000111011100000111011100010001100110110110000110010011010110011011101001001110010101100011010010011010110011111010011111110111000110011111100000111011100010001110100110101011111001101100110011101010000111110101101001101110101011110111101001111111011111111100001010011100010101011100101111110010011111010111100011101110001100111000011101110001000110111100111010110110110100101111111010100111011111101001001111000001110111000100011011010110100110110100101110101100001101111000111111011111101101011010110010011110111000110011011011000010101011100101111110110111101010111011100110011110111010100110110101101011111101001101010011111010101011001110111100111010110110011010110010110000111110110100111011100000111011100010001000111011100010101100010111011100110011100101111011100111100111101101110111000101101011011010110011100011011110001111110111111111010110101100100111101110001100110110110000111010010011101110010011001011111111111000001011111110011100100111110111101011111000100010111010011100010011110000111111111111101110110011001111011101010011100110011101010111110001000101111110111010111011011010011001110101011001111000110011111100001011011110000111010010011000111111011010110010111010010011110111000101100101011111101101101001110101110001101011001000011011010101111000011011010110010101110100111101110010110011111100001110111101111010011111110111000110001111010011010111010111101110111011100110011101010100011110011011001100001101011100111110101011010110100001101011100111000110111100111010111010010101101101111010011011010001101001110010111101101001100111110001100111111011101011000011101010011110101010110100100011011001101111110000011101000001011111000110110101110110011001110010000110011111100001111100011011010001011000110011100100001110111000100001011110011110001011011101110101011111000100111101010111100110010011110000011101110001000110110101101001101101001011101011000011001101101100001011110011010111011001110101010001111001010011110011111000110101101010100111011010111001011001001101101000111110110010110110101100001011111011101001111011010110101010010111111111000010100111111011110010110110110100101100110011101010011111110111001011110100111111101111101001011110111111010011001111110011111111101011001110110011011010111101111110100110011111100000111011111110001101110110101110101011111111111000001110111000100000111101011101011101101101001100111010101000111100011001111110000101101111100011100001001101011111101101011001011101001001111011100010110010101111110110110100111010111001100010111010100011111011101110101100110011100100001011111110110111010110101101001001111011100011010101001111010011010110101011111111110011001110101010001111001101100101011011110010010110111010011001111110111010001001111000001110111000100011011010110100110110100101110101100001101111000111111011111101101011010110010011110111000110011011011001111110000010111110001001111001001110110011001101100101011011110010010110111010101001011111011100110111111010010110101100100111101110001011101110011001110010111101110011110011110110111011100010111101101101011001110001110100100111011100100110010111111111000011000101011111011010100111001000011101110001000101111010111011101111101011110010101101110110011110111011010111111010011010100111110101010110001101111001110101001101101001011111110101001110111111011111111100'"
      ]
     },
     "execution_count": 305,
     "metadata": {},
     "output_type": "execute_result"
    }
   ],
   "source": [
    "arr2str(received_message_no_parity)"
   ]
  },
  {
   "cell_type": "code",
   "execution_count": 306,
   "metadata": {},
   "outputs": [
    {
     "name": "stdout",
     "output_type": "stream",
     "text": [
      "0.008132674214638813\n",
      "0.0\n",
      "0.00143517780258332\n"
     ]
    }
   ],
   "source": [
    "print(calculate_ber(received_message_no_parity,encoded_shannon.encoded_message))\n",
    "print(calculate_ber(encoded_shannon.encoded_message,encoded_shannon.encoded_message))\n",
    "print(calculate_ber(received_message_parity,encoded_shannon.encoded_message))"
   ]
  },
  {
   "cell_type": "markdown",
   "metadata": {},
   "source": [
    "#### creating plot\n",
    "to create our plot accurately, we should run a set number of trials and average them"
   ]
  },
  {
   "cell_type": "code",
   "execution_count": 307,
   "metadata": {},
   "outputs": [],
   "source": [
    "def create_data(number_of_trials, lower_snr_range,upper_snr_range):\n",
    "    results_parity=np.zeros((number_of_trials,upper_snr_range-lower_snr_range))\n",
    "    results_no_parity=np.zeros((number_of_trials,upper_snr_range-lower_snr_range))\n",
    "    \n",
    "    for i in (range(lower_snr_range,upper_snr_range)):\n",
    "        for j in range(0,number_of_trials):\n",
    "            error_encoded_message=error_encoder_decoder(encoded_shannon.encoded_message)\n",
    "            sent_message_parity=channel(error_encoded_message.encoded_message_array, i+1)\n",
    "            received_message_no_parity=channel( np.array(list(encoded_shannon.encoded_message)\n",
    "                                                         ,dtype=int),i+1)\n",
    "            error_encoded_message.correct_errors(sent_message_parity)\n",
    "            received_message_parity=error_encoded_message.decoded_message\n",
    "    \n",
    "            results_no_parity[j,i-lower_snr_range]=calculate_ber(\n",
    "                received_message_no_parity,encoded_shannon.encoded_message)\n",
    "            \n",
    "            results_parity[j,i-lower_snr_range]=calculate_ber(\n",
    "                received_message_parity,encoded_shannon.encoded_message)\n",
    "            \n",
    "    return results_no_parity,results_parity \n",
    "\n",
    "    \n",
    "    "
   ]
  },
  {
   "cell_type": "code",
   "execution_count": 308,
   "metadata": {},
   "outputs": [],
   "source": [
    "\n",
    "results_no_parity,results_parity =create_data(10,0,25)"
   ]
  },
  {
   "cell_type": "code",
   "execution_count": 309,
   "metadata": {},
   "outputs": [],
   "source": [
    "results_parity_averaged= np.log10(np.mean(results_parity, axis=0))\n",
    "results_no_parity_averaged= np.log10(np.mean(results_no_parity, axis=0))"
   ]
  },
  {
   "cell_type": "code",
   "execution_count": 310,
   "metadata": {},
   "outputs": [
    {
     "data": {
      "image/png": "[encoded data removed]",
      "text/plain": [
       "<Figure size 640x480 with 1 Axes>"
      ]
     },
     "metadata": {},
     "output_type": "display_data"
    }
   ],
   "source": [
    "import matplotlib.pyplot as plt\n",
    "\n",
    "plt.plot(results_parity_averaged, marker='o',label=\"with parity\") \n",
    "plt.plot(results_no_parity_averaged, marker='o',label=\"without parity\") \n",
    "plt.xlabel('SNR') \n",
    "plt.ylabel('BER')\n",
    "plt.title('Plot of BER SNR for parity and no parity (LOG SCALE)')\n",
    "plt.legend()\n",
    "plt.show()\n"
   ]
  },
  {
   "cell_type": "markdown",
   "metadata": {},
   "source": [
    "### REQUIREMENT 5 INTEGRATION\n",
    "\n",
    "for this I will use huffman code\n",
    "\n",
    "#### 20 SNR"
   ]
  },
  {
   "cell_type": "code",
   "execution_count": 311,
   "metadata": {},
   "outputs": [
    {
     "name": "stdout",
     "output_type": "stream",
     "text": [
      "in this papei, a novctsdopieolrr paooei-ed concurrent digital reooete ortion (dpd) rolution is pueaosed for dual-band transmitters (tz l employing a single widebano power amplifidttiheo l, and utilizing  ih ee  a single feedbacrmtreceirag path. the proposed decorrelation-based parameteumearning solution ia both flexible and simple, and operates in a closed-loop maoneritreaposedeto the widely applied indirect learning architectmre. the pro edosesdopenomation-based learning a-esead processing can also be effectively applied toemore orditary single-wned transmissions, as w ll as generalized to more thann won ransmrt bands. through a comlrehensive analysis covering both the spd parameter icoteing and the t olrlrrhtprocessing, it is shown that theoeaitalexit, of the proposed concurrent dpd is substantially lower cdmpared with ttatother state-of-the-arteconcurrentocobmenhodsctslvnnsive set ofnt ttrsumptive simrntn ion ancgf measurement resulngpre also presetted, using a base-station pa as well as a commerciahit edeoc  neced mobile pattireslmi trrn tnd validaftthe d bdol mars - af the proposed dpdoncttr pstin various real world sciearios, incorporating siogle-bandkdual-band tx cases. the sehig n ion and rf measurement results demonstrate excellent linearizateostperformaoce of the proposed concurrent dpd, eaarraiglbnsorming btenoav e ate-of-the-art methods, despite the dignifibnetly lower complexity\n"
     ]
    },
    {
     "data": {
      "text/plain": [
       "'in this paper, a novel decorrelation-based concurrent digital predistortion (dpd) solution is proposed for dual-band transmitters (tx) employing a single wideband power amplifieir haa), and utilizing just a single feedback receiver path. the proposed decorrelation-based parameter learning solution is both flexible and simple, and operates in a closed-loop manner, opposed to the widely applied indirect learning architecture. the proposed decorrelation-based learning and dpd processing can also be effectively applied to more ordinary single-band transmissions, as well as generalized to more than two transmit bands. through a comprehensive analysis covering both the dpd parameter learning and the main path processing, it is shown that the complexity of the proposed concurrent dpd is substantially lower compared with the other state-of-the-art concurrent dpd methods. extensive set of quantitative simulation and rf measurement results are also presented, using a base-station pa as well as a commercial lte-advanced mobile pa, to evaluate and validate the effectiveness of the proposed dpd solution in various real world scenarios, incorporating single-band/dual-band tx cases. the simulation and rf measurement results demonstrate excellent linearization performance of the proposed concurrent dpd, even outperforming current state-of-the-art methods, despite the significantly lower complexity.'"
      ]
     },
     "execution_count": 311,
     "metadata": {},
     "output_type": "execute_result"
    }
   ],
   "source": [
    "encoded_file=huffman_encoder(\"Test_text_file.txt\",\"Test_text_file_20SNR.zip\") \n",
    "error_encoded_file=error_encoder_decoder(\"Test_text_file_20SNR.zip\",\"Test_text_file_20SNR_error_encoded.zip\")\n",
    "\n",
    "channel(\"Test_text_file_20SNR.zip\",20)\n",
    "\n",
    "channel(\"Test_text_file_20SNR_error_encoded.zip\",20)\n",
    "\n",
    "error_encoded_file.correct_errors(\"Test_text_file_20SNR_error_encoded.zip\",\"Test_text_file_20SNR_error_decoded.zip\")\n",
    "\n",
    "decoded_file=decoder(encoded_file.encoding_tree,\"Test_text_file_20SNR.zip\",\"Test_text_file_20SNR.txt\")\n",
    "print(decoded_file.decoded_output)\n",
    "\n",
    "decoded_file=decoder(encoded_file.encoding_tree,\"Test_text_file_20SNR_error_decoded.zip\",\"Test_text_file_20SNR_error_encoding.txt\")\n",
    "decoded_file.decoded_output\n",
    "\n",
    "\n"
   ]
  },
  {
   "cell_type": "markdown",
   "metadata": {},
   "source": [
    "#### 10 SNR\n"
   ]
  },
  {
   "cell_type": "code",
   "execution_count": 312,
   "metadata": {},
   "outputs": [
    {
     "name": "stdout",
     "output_type": "stream",
     "text": [
      "in cmuszler, a novel denaenomatinbsbas d iasomnnorvoearexi ,renistov aeeo mcodel s wir paty)ueaored foroc iiosdrrsozonsmhise nwitz twmlpoyeau,yit v r g nebaocind rfesmpll ,g chaon ee ilo.  ilixe eg ahlne  u bngad tdodbtck reggveewecil jhe prohdnsesddpenamt   -doeiddo.pereplnr lcbnrng sotig ps  tefre ha epi tpiicrrdefii ale, and orb sose)ta ehd-soslaavhpnneritpieaofo,orhlr gud bwnspmpowaoefeca  oprnea r aichitrekrul lmrle cncoo-dop ccvr oeredcoaseiaicd ph,gbefd pegenrsinf bdbalso berlo snl maiau apai rseiirhseotorarnap yolirt-swnechers elissionsc ior ,li eontr-drammio dsast daelhpo two tranatnltbatdr.etit c erm t c ihcchl ctremsplssouflciesetqere h the dpcinotn oa   iai-tinf a d,hnumeptxsht csda -inine )airuembie nipr,h toaitzitsu yadoigvle ctdof concursiemdidecp arofe s ui lieyn d rg coinneri-srmpxhn oter,t  atecserbwponnte cancat aw  due me(udo psitintsh nts tnd  i uuooti.ti rifiuulaahee anopnsnpeasur m-r nbeninf aftalgeinawrisaeylnca xns, danneh.eeepuunyaml as a nortlrae   l lfo advttcee(resrliic-tltsezexnbeesnd sceplen e (n ef-deuitosnds of thbpi iedase-pd solqldulrlt rioud real world ysspplceiwlna  aosating sini pssbtncthdunrdnee-o,ii-easestu iletnxvrati atan wed tolsanohtnt resultsucids e rhsniid ntioavmineteeglation pdaoftlangve eirlrle naodedo as eatnoa iaidnifparraigpbngenling cmrrent rtzasdf-aloenot  ui  pd-, despynn iatsir duopmiah)hoyere relpicaamef \n"
     ]
    },
    {
     "data": {
      "text/plain": [
       "'nn ampninnav,dnrretom decoeeomationeoeiefd dosomnnooatdigitluleooete osnion (elderl ecttd xr m proposed for dual-baadr rans am s newhi a leemployi  o a sins pr t adogso.iese opmpliftrv tlr sa tie d utilizmse.hlne  a bp rle feed-semmtreceiver path. the prolarrbdecorrelae psooeiepn-n rameteciaics p r soli   astis both flexible anctchicdor and operat s ino pe a-ed-lood(pnnersnr aposed td the wsoely applied indirect micsna r srih lnctug reiilrle cniodor-raaaitn ion-einsf learwav and dpd processing cantoasnebe effectively npplgo,aguccgrdindrytolwiodoeieeddo anrmissioneei.d well as generalraled to more than two transmitlsdnds.craueterh a bcoreohnnsive analy)nsibdereostsgehlahnrdletndrameter icoterytieed the ppin paaizeadrfsrya tgn is shos n nmrt thedenhsnaino  y oneiilwdtcnd dbconcurrietodad is substantpnzwnubrg doi,reooynr(ttlgarhor soalwses-thd eoi  co dmnnoovoiaeipe h debunxua cire seteof qpssumptive simulatesstanenrf meaturcrent resultd arlplso ppfented, using aoop-oon atr stptioe e oe n as a commerciauit e-asrtns os hdbipiioa a  o evaluate and pieppen e the effectihoness of the ecsieu-esead solution in l oal fnvieu ,ciod dreeareaebt.aidtooratin,wlaeme-bandtmdigiosbanoo x caaes. the rhpwtn ioneaono tecteonteomcecgedults dcronstrate excellent  np renmlation potire la dandf the prnasedofi-omnnoaatdvdwn ren outpersedhalwfitenoav encsond dstln-art methodsiydfoeln the significannteymofb sedlielmpety.'"
      ]
     },
     "execution_count": 312,
     "metadata": {},
     "output_type": "execute_result"
    }
   ],
   "source": [
    "encoded_file=huffman_encoder(\"Test_text_file.txt\",\"Test_text_file_10SNR.zip\") \n",
    "error_encoded_file=error_encoder_decoder(\"Test_text_file_10SNR.zip\",\"Test_text_file_10SNR_error_encoded.zip\")\n",
    "\n",
    "channel(\"Test_text_file_10SNR.zip\",10)\n",
    "\n",
    "channel(\"Test_text_file_10SNR_error_encoded.zip\",10)\n",
    "\n",
    "error_encoded_file.correct_errors(\"Test_text_file_10SNR_error_encoded.zip\",\"Test_text_file_10SNR_error_decoded.zip\")\n",
    "\n",
    "decoded_file=decoder(encoded_file.encoding_tree,\"Test_text_file_10SNR.zip\",\"Test_text_file_10SNR.txt\")\n",
    "print(decoded_file.decoded_output)\n",
    "\n",
    "decoded_file=decoder(encoded_file.encoding_tree,\"Test_text_file_10SNR_error_decoded.zip\",\"Test_text_file_10SNR_error_encoding.txt\")\n",
    "decoded_file.decoded_output\n",
    "\n",
    "\n"
   ]
  },
  {
   "cell_type": "markdown",
   "metadata": {},
   "source": [
    "#### 15 SNR"
   ]
  },
  {
   "cell_type": "code",
   "execution_count": 313,
   "metadata": {},
   "outputs": [
    {
     "name": "stdout",
     "output_type": "stream",
     "text": [
      "in texneaaper, aenovel dreaenomationdo,edogi-omnnoavoetriaohrotsc ircr pst(opd) solutetstir proasedoyndtsearg-bandm  nesmi,nss (txil employuwcnfitgliytado and power ampliscnr shaa), and uwmizing just a sini pey-od ack receiver paah. t pnproposed dec enomation-based parameteumearnea r soiig pste esccim smgpp)e and sehieuoupnd operates in t closed-loop manner,e ieaosed to the widely alpliedolsc ooltlearning architecture. glrle cndosesdopenomawasooei-ed learning a ofeaciotoiessing can also cn effreuhrely aaiiapo,aihdre ordinary single-bans transtnt-ions, as well as generalrzed tdnlore tilsntwo tvs elit ba-eo uumfis  hlflelprehensive analysis ,etonep r both the dpd parameter learoin.pndmhn main path processing, hr tefhow tthat the complexitylbeiilrtcsreaodesi-o ten pvoldw efmbstantianinymower co/sred with t ptotta  f,rn-of-tiaonote concpenoavoiddhc hodsctdlvnosive set of quantitatiaar chiwrr p,pnd rf lconteohcet results ore also presentrci.nca r a base-stv pstpa ts tpm  i- a dputo ortnumte-advanced mobile pa, to eval guxso.tnppen e the effectiveness oteiilrle dtosed dpd solution it urenpiangeal warld scenari ebt.sidhedmi vl wa rle-band/dual-bandn x cases. t,s bmupation t o.ieipi-urement results demonstrste exceplent i pnarralati stperf e laneatoi rhaaproposed concurr nt dpd, even a i perfdrhing currec  state-ofcrtponatlhc hobblodspite the significa / titd rg complexityg\n"
     ]
    },
    {
     "data": {
      "text/plain": [
       "'in this pasbni,gretom decorrelation-based concurrent digital predistortion (dpd) solution is proposed for dual-band transmitters gmlp l employing a single widebapbpower amplifier (pa), and utilizing just a single feedback receiver path. the  n cndosesdopenomation-beedo.re nleter learning solution is -oth flexible and simple, and operates in a closed-loop ma anr, opposed to thy r dely applied indirect learning architectvswtiilrle cndosesdop-aitneion-based hics p r and dpd processing can also be effectively applied to more ordinary single-band transmisdions, as well as generamhnoo,a(seotthan two transmit bands. through tecomprehensive analysis coveigwfge h theo,d.re nleter learning and the main path processing, it is shown that the complexity of the proposed concurrent dpd is substantially lower compared with the other state-of-the-art concurrent dpd methods. extensive set of quantitative simulation and rf measurement ebeti  s are also presented, using a base-station pa as well as a commercial lte-advanced mobile pa, to evaluate and validate the effectiveness of the proposed dpd solution in various real woinbtdrricepe-l rsidtaee g p r single-band/dual-band t ifioof. the e h ti n ion and rf measurement results demonstrate excellent linearization performance of the propssed concurrent dpd,ri oatoutperforming current state-of-the-art methods, despite the significantly lower complexi  f p'"
      ]
     },
     "execution_count": 313,
     "metadata": {},
     "output_type": "execute_result"
    }
   ],
   "source": [
    "encoded_file=huffman_encoder(\"Test_text_file.txt\",\"Test_text_file_15SNR.zip\") \n",
    "error_encoded_file=error_encoder_decoder(\"Test_text_file_15SNR.zip\",\"Test_text_file_15SNR_error_encoded.zip\")\n",
    "\n",
    "channel(\"Test_text_file_15SNR.zip\",15)\n",
    "\n",
    "channel(\"Test_text_file_15SNR_error_encoded.zip\",15)\n",
    "\n",
    "error_encoded_file.correct_errors(\"Test_text_file_15SNR_error_encoded.zip\",\"Test_text_file_15SNR_error_decoded.zip\")\n",
    "\n",
    "decoded_file=decoder(encoded_file.encoding_tree,\"Test_text_file_15SNR.zip\",\"Test_text_file_15SNR.txt\")\n",
    "print(decoded_file.decoded_output)\n",
    "\n",
    "decoded_file=decoder(encoded_file.encoding_tree,\"Test_text_file_15SNR_error_decoded.zip\",\"Test_text_file_15SNR_error_encoding.txt\")\n",
    "decoded_file.decoded_output\n"
   ]
  },
  {
   "cell_type": "code",
   "execution_count": null,
   "metadata": {},
   "outputs": [],
   "source": []
  }
 ],
 "metadata": {
  "kernelspec": {
   "display_name": "Python 3 (ipykernel)",
   "language": "python",
   "name": "python3"
  },
  "language_info": {
   "codemirror_mode": {
    "name": "ipython",
    "version": 3
   },
   "file_extension": ".py",
   "mimetype": "text/x-python",
   "name": "python",
   "nbconvert_exporter": "python",
   "pygments_lexer": "ipython3",
   "version": "3.12.7"
  }
 },
 "nbformat": 4,
 "nbformat_minor": 4
}
